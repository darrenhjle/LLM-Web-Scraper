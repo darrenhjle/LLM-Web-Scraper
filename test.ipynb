{
 "cells": [
  {
   "cell_type": "markdown",
   "metadata": {},
   "source": [
    "## ollama stuff\n",
    "- https://github.com/ollama/ollama\n",
    "- https://ollama.com/download\n",
    "\n",
    "## chromewebdriver\n",
    "- https://googlechromelabs.github.io/chrome-for-testing/#stable"
   ]
  },
  {
   "cell_type": "code",
   "execution_count": null,
   "metadata": {},
   "outputs": [],
   "source": [
    "# Scraping part\n",
    "from selenium import webdriver\n",
    "from selenium.webdriver.chrome.service import Service\n",
    "\n",
    "def scrape(url):\n",
    "    driver_path = \"./chromedriver.exe\"\n",
    "    options = webdriver.ChromeOptions()\n",
    "    driver = webdriver.Chrome(service=Service(driver_path), options=options)\n",
    "\n",
    "    try: \n",
    "        driver.get(url)\n",
    "        html = driver.page_source\n",
    "        \n",
    "        return html\n",
    "    finally:\n",
    "        driver.quit()\n",
    "\n"
   ]
  },
  {
   "cell_type": "code",
   "execution_count": null,
   "metadata": {},
   "outputs": [
    {
     "data": {
      "text/plain": [
       "'<html lang=\"en\"><head>\\n\\t<!-- Google Tag Manager -->\\n<script type=\"text/javascript\" async=\"\" src=\"https://www.google-analytics.com/analytics.js\" nonce=\"\"></script><script type=\"text/javascript\" async=\"\" src=\"https://www.googletagmanager.com/gtag/js?id=G-Q9KY1T6XJQ&amp;l=dataLayer&amp;cx=c&amp;gtm=45He4c40v79311205za200\" nonce=\"\"></script><script async=\"\" src=\"https://www.googletagmanager.com/gtm.js?id=GTM-NVFPDWB\"></script><script nonce=\"\">(function (w, d, s, l, i) {\\n\\t\\tw[l] = w[l] || [];\\n\\t\\tw[l].push({\\n\\t\\t\\t\\'gtm.start\\':\\n\\t\\t\\t\\tnew Date().getTime(), event: \\'gtm.js\\'\\n\\t\\t});\\n\\t\\tvar f = d.getElementsByTagName(s)[0],\\n\\t\\t\\tj = d.createElement(s), dl = l != \\'dataLayer\\' ? \\'&l=\\' + l : \\'\\';\\n\\t\\tj.async = true;\\n\\t\\tj.src =\\n\\t\\t\\t\\'https://www.googletagmanager.com/gtm.js?id=\\' + i + dl;\\n\\t\\tf.parentNode.insertBefore(j, f);\\n\\t})(window, document, \\'script\\', \\'dataLayer\\', \\'GTM-NVFPDWB\\');</script>\\n<!-- End Google Tag Manager -->\\n\\t<title>Allinone | Web Scraper Test Sites</title>\\n\\t<meta charset=\"utf-8\">\\n\\t<meta http-equiv=\"X-UA-Compatible\" content=\"IE=edge,chrome=1\">\\n\\n\\t<meta name=\"keywords\" content=\"web scraping,Web Scraper,Chrome extension,Crawling,Cross platform scraper\">\\n\\t<meta name=\"description\" content=\"The most popular web scraping extension. Start scraping in minutes. Automate your tasks with our Cloud Scraper. No software to download, no coding needed.\">\\n\\t<link rel=\"icon\" sizes=\"128x128\" href=\"/favicon.png\" type=\"image/png\">\\n\\t<link rel=\"icon\" href=\"/favicon.ico\" sizes=\"16x16 32x32\" type=\"image/x-icon\">\\n\\t<link rel=\"apple-touch-icon\" href=\"/logo-icon.png\" type=\"image/png\">\\n\\t<link rel=\"icon\" href=\"/icon.svg\" type=\"image/svg+xml\">\\n\\n\\t<meta name=\"viewport\" content=\"width=device-width, initial-scale=1.0\">\\n\\t\\n\\t<link rel=\"preconnect\" href=\"https://fonts.googleapis.com\">\\n\\t<link rel=\"preconnect\" href=\"https://fonts.gstatic.com\" crossorigin=\"\">\\n\\t<link href=\"https://fonts.googleapis.com/css2?family=Roboto:wght@400;500;600&amp;display=swap\" rel=\"stylesheet\">\\n\\t<link href=\"https://fonts.googleapis.com/css2?family=Montserrat:wght@300;400;500;600;700;900&amp;display=swap\" rel=\"stylesheet\">\\n\\n\\t<link rel=\"stylesheet\" href=\"/css/app.css?id=5b52ac68297d0e7f8456d77584b76430\">\\n\\t<link rel=\"stylesheet\" href=\"/css/ws-icons.font.css?id=bc6c0d86aeabab8583f9814643f23faa\">\\n\\n\\t<link rel=\"canonical\" href=\"https://webscraper.io/test-sites/e-commerce/allinone\">\\n\\t<meta property=\"og:title\" content=\"Allinone | Web Scraper Test Sites\">\\n\\t<meta property=\"og:description\" content=\"The most popular web scraping extension. Start scraping in minutes. Automate your tasks with our Cloud Scraper. No software to download, no coding needed.\">\\n\\t<meta property=\"og:type\" content=\"website\">\\n\\t<meta property=\"og:url\" content=\"https://webscraper.io/test-sites/e-commerce/allinone\">\\n\\t<meta property=\"og:image\" content=\"https://webscraper.io/webscraper-logo-header.png\">\\n\\n\\t<script defer=\"\" src=\"/js/app.js?id=f1a54bee4c20f88abac224402c61522d\"></script>\\n\\n\\t\\n</head>\\n<body>\\n<!-- Google Tag Manager (noscript) -->\\n<noscript>\\n\\t<iframe src=\"https://www.googletagmanager.com/ns.html?id=GTM-NVFPDWB\"\\n\\t        height=\"0\" width=\"0\" style=\"display:none;visibility:hidden\"></iframe>\\n</noscript>\\n<!-- End Google Tag Manager (noscript) -->\\n<header role=\"banner\" class=\"navbar fixed-top navbar-expand-lg navbar-dark navbar-static svg-background\" id=\"navbar-top\">\\n\\t<div class=\"container\">\\n\\n\\t\\t<div class=\"navbar-header\">\\n\\n\\t\\t\\t<a data-bs-toggle=\"collapse-side\" data-bs-target=\".side-collapse\" data-bs-target-2=\".side-collapse-container\">\\n\\t\\t\\t\\t<button type=\"button\" class=\"navbar-toggler float-end collapsed\" data-bs-toggle=\"collapse\" data-bs-target=\"#navbar\" data-bs-target-2=\".side-collapse-container\" data-bs-target-3=\".side-collapse\" aria-expanded=\"false\" aria-controls=\"navbar\">\\n\\n\\t\\t\\t\\t\\t<span class=\"visually-hidden\">Toggle navigation</span>\\n\\t\\t\\t\\t\\t<span class=\"icon-bar top-bar\"></span>\\n\\t\\t\\t\\t\\t<span class=\"icon-bar middle-bar\"></span>\\n\\t\\t\\t\\t\\t<span class=\"icon-bar bottom-bar\"></span>\\n\\t\\t\\t\\t\\t<span class=\"icon-bar extra-bottom-bar\"></span>\\n\\n\\t\\t\\t\\t</button>\\n\\t\\t\\t</a>\\n\\t\\t\\t<div class=\"navbar-brand\">\\n\\t\\t\\t\\t<a href=\"/\"><img src=\"/img/logo_white.svg\" alt=\"Web Scraper\"></a>\\n\\t\\t\\t</div>\\n\\t\\t</div>\\n\\n\\t\\t<div class=\"side-collapse in\">\\n\\t\\t\\t<nav id=\"navbar\" role=\"navigation\" class=\"navbar-collapse collapse\">\\n\\t\\t\\t\\t<ul class=\"nav navbar-nav navbar-right\">\\n\\t\\t\\t\\t\\t<li class=\"nav-item\">\\n\\t\\t\\t\\t\\t\\t<a href=\"/\" class=\"nav-link menuitm\">\\n\\t\\t\\t\\t\\t\\t\\t<p>Web Scraper</p>\\n\\t\\t\\t\\t\\t\\t\\t<div class=\"crta\"></div>\\n\\t\\t\\t\\t\\t\\t</a>\\n\\t\\t\\t\\t\\t</li>\\n\\t\\t\\t\\t\\t<li class=\"nav-item\">\\n\\t\\t\\t\\t\\t\\t<a href=\"/cloud-scraper\" class=\"nav-link menuitm\" id=\"cloud-nav-link\">\\n\\t\\t\\t\\t\\t\\t\\t<p>Cloud Scraper</p>\\n\\t\\t\\t\\t\\t\\t\\t<div class=\"crta\"></div>\\n\\t\\t\\t\\t\\t\\t</a>\\n\\t\\t\\t\\t\\t</li>\\n\\t\\t\\t\\t\\t<li class=\"nav-item\">\\n\\t\\t\\t\\t\\t\\t<a href=\"/pricing\" class=\"nav-link menuitm\" id=\"pricing-nav-link\">\\n\\t\\t\\t\\t\\t\\t\\t<p>Pricing</p>\\n\\t\\t\\t\\t\\t\\t\\t<div class=\"crta\"></div>\\n\\t\\t\\t\\t\\t\\t</a>\\n\\t\\t\\t\\t\\t</li>\\n\\t\\t\\t\\t\\t<li class=\"nav-item dropdown\">\\n\\t\\t\\t\\t\\t\\t<button class=\"menuitm nav-link dropdown-toggle\" id=\"dropdownMenuLink\" role=\"button\" data-bs-toggle=\"dropdown\" aria-haspopup=\"true\" aria-expanded=\"false\">\\n\\t\\t\\t\\t\\t\\t\\t<p>Learn</p>\\n\\t\\t\\t\\t\\t\\t\\t<span class=\"crta\"></span>\\n\\t\\t\\t\\t\\t\\t</button>\\n\\t\\t\\t\\t\\t\\t<ul class=\"dropdown-menu\" aria-labelledby=\"dropdownMenuLink\">\\n\\t\\t\\t\\t\\t\\t\\t<li>\\n\\t\\t\\t\\t\\t\\t\\t\\t<a href=\"/documentation\" class=\"dropdown-item\">Documentation</a>\\n\\t\\t\\t\\t\\t\\t\\t</li>\\n\\t\\t\\t\\t\\t\\t\\t<li>\\n\\t\\t\\t\\t\\t\\t\\t\\t<a href=\"/tutorials\" class=\"dropdown-item\">Video Tutorials</a>\\n\\t\\t\\t\\t\\t\\t\\t</li>\\n\\t\\t\\t\\t\\t\\t\\t<li>\\n\\t\\t\\t\\t\\t\\t\\t\\t<a href=\"/how-to-videos\" class=\"dropdown-item\">How to</a>\\n\\t\\t\\t\\t\\t\\t\\t</li>\\n\\t\\t\\t\\t\\t\\t\\t<li>\\n\\t\\t\\t\\t\\t\\t\\t\\t<a href=\"/test-sites\" class=\"dropdown-item\">Test Sites</a>\\n\\t\\t\\t\\t\\t\\t\\t</li>\\n\\t\\t\\t\\t\\t\\t\\t<li>\\n\\t\\t\\t\\t\\t\\t\\t\\t<a href=\"https://forum.webscraper.io/\" target=\"_blank\" rel=\"noopener\" class=\"dropdown-item\">Forum</a>\\n\\t\\t\\t\\t\\t\\t\\t</li>\\n\\t\\t\\t\\t\\t\\t</ul>\\n\\t\\t\\t\\t\\t</li>\\n\\t\\t\\t\\t\\t<li class=\"nav-item\">\\n\\t\\t\\t\\t\\t\\t<a href=\"https://chromewebstore.google.com/detail/web-scraper/jnhgnonknehpejjnehehllkliplmbmhn?hl=en\" target=\"_blank\" class=\"nav-link btn-menu1 install-extension\">Install</a>\\n\\t\\t\\t\\t\\t</li>\\n\\t\\t\\t\\t\\t<li class=\"nav-item\">\\n\\t\\t\\t\\t\\t\\t<a href=\"https://cloud.webscraper.io/\" class=\"nav-link btn-menu2\">Cloud Login</a>\\n\\t\\t\\t\\t\\t</li>\\n\\t\\t\\t\\t</ul>\\n\\t\\t\\t</nav>\\n\\t\\t</div>\\n\\t</div>\\n</header>\\n\\n<div class=\"wrapper\">\\n\\t\\t<div class=\"formenu-here container-fluid\">\\n\\n\\t</div>\\n\\t<div class=\"container-fluid blog-hero\">\\n\\t\\t<div class=\"container\">\\n\\t\\t\\t<div class=\"row\">\\n\\t\\t\\t\\t<div class=\"col-lg-12\">\\n\\t\\t\\t\\t\\t<h1>Test Sites</h1>\\n\\t\\t\\t\\t</div>\\n\\t\\t\\t</div>\\n\\t\\t</div>\\n\\t</div>\\n\\n\\t<div class=\"container test-site\">\\n\\t\\t<div class=\"row\">\\n\\t\\t\\t<div class=\"col-lg-3 sidebar\">\\n\\t\\t\\t\\t\\t<div class=\"navbar-light sidebar\" role=\"navigation\">\\n\\t<div class=\"sidebar-nav navbar-collapse\">\\n\\t\\t<ul class=\"nav flex-column\" id=\"side-menu\">\\n\\n\\t\\t\\t<li class=\"nav-item  active \">\\n\\t\\t\\t\\t<a href=\"/test-sites/e-commerce/allinone\" class=\"nav-link\">Home</a>\\n\\t\\t\\t</li>\\n\\n\\t\\t\\t\\t\\t\\t<li class=\"nav-item \">\\n\\t\\t\\t\\t<a href=\"/test-sites/e-commerce/allinone/computers\" class=\"category-link nav-link \" aria-label=\"Navigation category\">\\n\\t\\t\\t\\t\\tComputers\\n\\t\\t\\t\\t\\t<i class=\"ws-icon  ws-icon-right \" aria-hidden=\"true\"></i>\\n\\t\\t\\t\\t</a>\\n\\n\\t\\t\\t\\t\\t\\t\\t\\t</li>\\n\\t\\t\\t\\t\\t\\t<li class=\"nav-item \">\\n\\t\\t\\t\\t<a href=\"/test-sites/e-commerce/allinone/phones\" class=\"category-link nav-link \" aria-label=\"Navigation category\">\\n\\t\\t\\t\\t\\tPhones\\n\\t\\t\\t\\t\\t<i class=\"ws-icon  ws-icon-right \" aria-hidden=\"true\"></i>\\n\\t\\t\\t\\t</a>\\n\\n\\t\\t\\t\\t\\t\\t\\t\\t</li>\\n\\t\\t\\t\\t\\t</ul>\\n\\t</div>\\n</div>\\n\\n\\t\\t\\t</div>\\n\\t\\t\\t<div class=\"col-lg-9\">\\n\\t\\t\\t\\t\\n\\t<div class=\"jumbotron\">\\n\\t\\t<h2>E-commerce training site</h2>\\n\\t\\t<p class=\"lead\">\\n\\t\\t\\tWelcome to WebScraper e-commerce site. You can use this site for training\\n\\t\\t\\tto learn how to use the Web Scraper. Items listed here are not for sale.\\n\\t\\t</p>\\n\\t</div>\\n\\n\\t<h3>Top items being scraped right now</h3>\\n\\n\\t<div class=\"row\">\\n\\t\\t\\t<div class=\"col-md-4 col-xl-4 col-lg-4\">\\n\\t<div class=\"card thumbnail\">\\n\\t\\t<div class=\"product-wrapper card-body\">\\n\\t\\t\\t<img class=\"img-fluid card-img-top image img-responsive\" alt=\"item\" src=\"/images/test-sites/e-commerce/items/cart2.png\">\\n\\t\\t\\t<div class=\"caption\">\\n\\t\\t\\t\\t<h4 class=\"price float-end card-title pull-right\">$1294.74</h4>\\n\\t\\t\\t\\t<h4>\\n\\t\\t\\t\\t\\t<a href=\"/test-sites/e-commerce/allinone/product/134\" class=\"title\" title=\"Toshiba Portege Z30-C-16K Grey\">Toshiba Porteg...</a>\\n\\t\\t\\t\\t</h4>\\n\\t\\t\\t\\t<p class=\"description card-text\">Toshiba Portege Z30-C-16K Grey, 13.3\" FHD, Core i5-6200U, 8GB, 256GB SSD, 4G, Windows 10 Pro</p>\\n\\n\\t\\t\\t</div>\\n\\t\\t\\t<div class=\"ratings\">\\n\\t\\t\\t\\t<p class=\"review-count float-end\">6 reviews</p>\\n\\t\\t\\t\\t<p data-rating=\"1\">\\n\\t\\t\\t\\t\\t\\t\\t\\t\\t\\t<span class=\"ws-icon ws-icon-star\"></span>\\n\\t\\t\\t\\t\\t\\t\\t\\t\\t</p>\\n\\t\\t\\t</div>\\n\\t\\t</div>\\n\\t</div>\\n</div>\\n\\t\\t\\t<div class=\"col-md-4 col-xl-4 col-lg-4\">\\n\\t<div class=\"card thumbnail\">\\n\\t\\t<div class=\"product-wrapper card-body\">\\n\\t\\t\\t<img class=\"img-fluid card-img-top image img-responsive\" alt=\"item\" src=\"/images/test-sites/e-commerce/items/cart2.png\">\\n\\t\\t\\t<div class=\"caption\">\\n\\t\\t\\t\\t<h4 class=\"price float-end card-title pull-right\">$899</h4>\\n\\t\\t\\t\\t<h4>\\n\\t\\t\\t\\t\\t<a href=\"/test-sites/e-commerce/allinone/product/53\" class=\"title\" title=\"Asus ROG STRIX GL553VD-DM256\">Asus ROG STRIX...</a>\\n\\t\\t\\t\\t</h4>\\n\\t\\t\\t\\t<p class=\"description card-text\">Asus ROG STRIX GL553VD-DM256, 15.6\" FHD, Core i5-7300HQ, 8GB, 1TB, GeForce GTX 1050 2GB, No OS + Windows 10 Home</p>\\n\\n\\t\\t\\t</div>\\n\\t\\t\\t<div class=\"ratings\">\\n\\t\\t\\t\\t<p class=\"review-count float-end\">7 reviews</p>\\n\\t\\t\\t\\t<p data-rating=\"1\">\\n\\t\\t\\t\\t\\t\\t\\t\\t\\t\\t<span class=\"ws-icon ws-icon-star\"></span>\\n\\t\\t\\t\\t\\t\\t\\t\\t\\t</p>\\n\\t\\t\\t</div>\\n\\t\\t</div>\\n\\t</div>\\n</div>\\n\\t\\t\\t<div class=\"col-md-4 col-xl-4 col-lg-4\">\\n\\t<div class=\"card thumbnail\">\\n\\t\\t<div class=\"product-wrapper card-body\">\\n\\t\\t\\t<img class=\"img-fluid card-img-top image img-responsive\" alt=\"item\" src=\"/images/test-sites/e-commerce/items/cart2.png\">\\n\\t\\t\\t<div class=\"caption\">\\n\\t\\t\\t\\t<h4 class=\"price float-end card-title pull-right\">$520.99</h4>\\n\\t\\t\\t\\t<h4>\\n\\t\\t\\t\\t\\t<a href=\"/test-sites/e-commerce/allinone/product/42\" class=\"title\" title=\"HP 250 G3\">HP 250 G3</a>\\n\\t\\t\\t\\t</h4>\\n\\t\\t\\t\\t<p class=\"description card-text\">15.6\", Core&nbsp;i5-4210U, 4GB, 500GB, Windows 8.1</p>\\n\\n\\t\\t\\t</div>\\n\\t\\t\\t<div class=\"ratings\">\\n\\t\\t\\t\\t<p class=\"review-count float-end\">13 reviews</p>\\n\\t\\t\\t\\t<p data-rating=\"2\">\\n\\t\\t\\t\\t\\t\\t\\t\\t\\t\\t<span class=\"ws-icon ws-icon-star\"></span>\\n\\t\\t\\t\\t\\t\\t\\t\\t\\t\\t<span class=\"ws-icon ws-icon-star\"></span>\\n\\t\\t\\t\\t\\t\\t\\t\\t\\t</p>\\n\\t\\t\\t</div>\\n\\t\\t</div>\\n\\t</div>\\n</div>\\n\\t</div>\\n\\n<div id=\"static-pagination\">\\n\\t</div>\\n\\t\\t\\t</div>\\n\\t\\t</div>\\n\\t</div>\\n\\t<div class=\"clearfix\"></div>\\n\\t<div class=\"push\"></div>\\n</div>\\n\\n<div class=\"container-fluid footer\" id=\"layout-footer\">\\n\\t<div class=\"container\">\\n\\t\\t<div class=\"row\">\\n\\t\\t\\t<div class=\"col-lg-3\">\\n\\t\\t\\t\\t<ul>\\n\\t\\t\\t\\t\\t<li><p>Products</p></li>\\n\\t\\t\\t\\t\\t<li>\\n\\t\\t\\t\\t\\t\\t<a href=\"/\">Web Scraper browser extension</a>\\n\\t\\t\\t\\t\\t</li>\\n\\t\\t\\t\\t\\t<li>\\n\\t\\t\\t\\t\\t\\t<a href=\"/cloud-scraper\">Web Scraper Cloud</a>\\n\\t\\t\\t\\t\\t</li>\\n\\t\\t\\t\\t</ul>\\n\\t\\t\\t</div>\\n\\t\\t\\t<div class=\"col-lg-3\">\\n\\t\\t\\t\\t<ul>\\n\\t\\t\\t\\t\\t<li><p>Company</p></li>\\n\\t\\t\\t\\t\\t<li>\\n\\t\\t\\t\\t\\t\\t<a href=\"/about-us\">About us</a>\\n\\t\\t\\t\\t\\t</li>\\n\\t\\t\\t\\t\\t<li>\\n\\t\\t\\t\\t\\t\\t<a href=\"/contact\">Contact</a>\\n\\t\\t\\t\\t\\t</li>\\n\\t\\t\\t\\t\\t<li>\\n\\t\\t\\t\\t\\t\\t<a href=\"/privacy-policy\">Website Privacy Policy</a>\\n\\t\\t\\t\\t\\t</li>\\n\\t\\t\\t\\t\\t<li>\\n\\t\\t\\t\\t\\t\\t<a href=\"/extension-privacy-policy\">Browser Extension Privacy Policy</a>\\n\\t\\t\\t\\t\\t</li>\\n\\t\\t\\t\\t\\t<li>\\n\\t\\t\\t\\t\\t\\t<a href=\"https://webscraper.io/downloads/Web_Scraper_Media_Kit.zip\">Media kit</a>\\n\\t\\t\\t\\t\\t</li>\\n\\t\\t\\t\\t\\t<li><a href=\"/jobs\">Jobs</a></li>\\n\\t\\t\\t\\t</ul>\\n\\t\\t\\t</div>\\n\\t\\t\\t<div class=\"col-lg-3\">\\n\\t\\t\\t\\t<ul>\\n\\t\\t\\t\\t\\t<li><p>Resources</p></li>\\n\\t\\t\\t\\t\\t<li><a href=\"/blog\">Blog</a></li>\\n\\t\\t\\t\\t\\t<li>\\n\\t\\t\\t\\t\\t\\t<a href=\"/documentation\">Documentation</a>\\n\\t\\t\\t\\t\\t</li>\\n\\t\\t\\t\\t\\t<li>\\n\\t\\t\\t\\t\\t\\t<a href=\"/tutorials\">Video Tutorials</a>\\n\\t\\t\\t\\t\\t</li>\\n\\t\\t\\t\\t\\t<li>\\n\\t\\t\\t\\t\\t\\t<a href=\"/screenshots\">Screenshots</a>\\n\\t\\t\\t\\t\\t</li>\\n\\t\\t\\t\\t\\t<li>\\n\\t\\t\\t\\t\\t\\t<a href=\"/test-sites\">Test Sites</a>\\n\\t\\t\\t\\t\\t</li>\\n\\t\\t\\t\\t\\t<li>\\n\\t\\t\\t\\t\\t\\t<a target=\"_blank\" href=\"https://forum.webscraper.io/\" rel=\"noopener\">Forum</a>\\n\\t\\t\\t\\t\\t</li>\\n\\t\\t\\t\\t\\t<li>\\n\\t\\t\\t\\t\\t\\t<a target=\"_blank\" href=\"https://status.webscraper.io/\" rel=\"noopener\">Status</a>\\n\\t\\t\\t\\t\\t</li>\\n\\t\\t\\t\\t</ul>\\n\\t\\t\\t</div>\\n\\t\\t\\t<div class=\"col-lg-3\">\\n\\t\\t\\t\\t<ul>\\n\\t\\t\\t\\t\\t<li><p>CONTACT US</p></li>\\n\\t\\t\\t\\t\\t<li>\\n\\t\\t\\t\\t\\t\\t<a href=\"mailto:info@webscraper.io\">info@webscraper.io</a>\\n\\t\\t\\t\\t\\t</li>\\n\\t\\t\\t\\t\\t<li>Ubelu 5-71,<br> Adazi, Latvia, LV-2164</li>\\n\\t\\t\\t\\t</ul>\\n\\t\\t\\t\\t<ul class=\"smedia\">\\n\\t\\t\\t\\t\\t<li>\\n\\t\\t\\t\\t\\t\\t<a href=\"https://www.facebook.com/webscraperio/\" target=\"_blank\" rel=\"noopener\" aria-label=\"Web Scraper on Facebook\">\\n\\t\\t\\t\\t\\t\\t\\t<i class=\"ws-icon ws-icon-facebook-f\"></i>\\n\\t\\t\\t\\t\\t\\t</a>\\n\\t\\t\\t\\t\\t</li>\\n\\t\\t\\t\\t\\t<li>\\n\\t\\t\\t\\t\\t\\t<a href=\"https://twitter.com/webscraperio\" target=\"_blank\" rel=\"noopener\" aria-label=\"Web Scraper on X\">\\n\\t\\t\\t\\t\\t\\t\\t<i class=\"ws-icon ws-icon-twitter\"></i>\\n\\t\\t\\t\\t\\t\\t</a>\\n\\t\\t\\t\\t\\t</li>\\n\\t\\t\\t\\t\\t<li>\\n\\t\\t\\t\\t\\t\\t<a href=\"https://lv.linkedin.com/company/web-scraper\" target=\"_blank\" rel=\"noopener\" aria-label=\"Web Scraper on LinkedIn\">\\n\\t\\t\\t\\t\\t\\t\\t<i class=\"ws-icon ws-icon-linkedin\"></i>\\n\\t\\t\\t\\t\\t\\t</a>\\n\\t\\t\\t\\t\\t</li>\\n\\t\\t\\t\\t\\t<li>\\n\\t\\t\\t\\t\\t\\t<a href=\"https://youtube.com/@WebScraper/videos\" target=\"_blank\" rel=\"noopener\" aria-label=\"Web Scraper on Youtube\">\\n\\t\\t\\t\\t\\t\\t\\t<i class=\"ws-icon ws-icon-youtube\"></i>\\n\\t\\t\\t\\t\\t\\t</a>\\n\\t\\t\\t\\t\\t</li>\\n\\t\\t\\t\\t\\t<li>\\n\\t\\t\\t\\t\\t\\t<a class=\"install-extension browser-icon-dark\" href=\"https://chromewebstore.google.com/detail/web-scraper/jnhgnonknehpejjnehehllkliplmbmhn?hl=en\" target=\"_blank\" rel=\"noopener\" aria-label=\"Download the Web Scraper extension\">\\n\\t\\t\\t\\t\\t\\t\\t<i class=\"ws-icon ws-icon-chrome-dark\"></i>\\n\\t\\t\\t\\t\\t\\t</a>\\n\\t\\t\\t\\t\\t</li>\\n\\t\\t\\t\\t</ul>\\n\\t\\t\\t</div>\\n\\t\\t</div>\\n\\t\\t<div class=\"row\">\\n\\t\\t\\t<div class=\"col-lg-12\">\\n\\t\\t\\t\\t<p class=\"copyright\">Copyright © 2024\\n\\t\\t\\t\\t\\t<b>Web Scraper</b> | All rights reserved</p>\\n\\t\\t\\t</div>\\n\\t\\t</div>\\n\\t</div>\\n</div>\\n\\n\\n\\n\\n<iframe height=\"0\" width=\"0\" style=\"display: none; visibility: hidden;\"></iframe><div id=\"cookieBanner\"><div id=\"closeCookieBanner\">x</div>We use cookies to make your Web Scraper experience better. Read our <a href=\"/privacy-policy\">Privacy Policy</a>. <div class=\"acceptContainer\"><button class=\"acceptCookies\">Accept &amp; Continue</button></div></div></body></html>'"
      ]
     },
     "execution_count": 38,
     "metadata": {},
     "output_type": "execute_result"
    }
   ],
   "source": [
    "scrape(\"https://scrapeme.live/shop/\")"
   ]
  },
  {
   "cell_type": "code",
   "execution_count": 27,
   "metadata": {},
   "outputs": [],
   "source": [
    "# Parsing and cleaning\n",
    "from bs4 import BeautifulSoup\n",
    "\n",
    "def parse(html):\n",
    "    soup = BeautifulSoup(html, \"html.parser\")\n",
    "    body = soup.body\n",
    "    if body:\n",
    "        for content in soup([\"script\", \"style\"]):\n",
    "            content.extract() # get rid of tags\n",
    "        clean_content = soup.get_text(separator=\"\\n\")\n",
    "        clean_content = \"\\n\".join(line.strip() for line in clean_content.splitlines() if line.strip()) # if \\n is not seperating anything this will remove it\n",
    "\n",
    "        return clean_content\n",
    "    return None\n",
    "\n"
   ]
  },
  {
   "cell_type": "code",
   "execution_count": null,
   "metadata": {},
   "outputs": [
    {
     "data": {
      "text/plain": [
       "'Allinone | Web Scraper Test Sites\\nToggle navigation\\nWeb Scraper\\nCloud Scraper\\nPricing\\nLearn\\nDocumentation\\nVideo Tutorials\\nHow to\\nTest Sites\\nForum\\nInstall\\nCloud Login\\nTest Sites\\nHome\\nComputers\\nPhones\\nE-commerce training site\\nWelcome to WebScraper e-commerce site. You can use this site for training\\nto learn how to use the Web Scraper. Items listed here are not for sale.\\nTop items being scraped right now\\n$1294.74\\nToshiba Porteg...\\nToshiba Portege Z30-C-16K Grey, 13.3\" FHD, Core i5-6200U, 8GB, 256GB SSD, 4G, Windows 10 Pro\\n6 reviews\\n$899\\nAsus ROG STRIX...\\nAsus ROG STRIX GL553VD-DM256, 15.6\" FHD, Core i5-7300HQ, 8GB, 1TB, GeForce GTX 1050 2GB, No OS + Windows 10 Home\\n7 reviews\\n$520.99\\nHP 250 G3\\n15.6\", Core\\xa0i5-4210U, 4GB, 500GB, Windows 8.1\\n13 reviews\\nProducts\\nWeb Scraper browser extension\\nWeb Scraper Cloud\\nCompany\\nAbout us\\nContact\\nWebsite Privacy Policy\\nBrowser Extension Privacy Policy\\nMedia kit\\nJobs\\nResources\\nBlog\\nDocumentation\\nVideo Tutorials\\nScreenshots\\nTest Sites\\nForum\\nStatus\\nCONTACT US\\ninfo@webscraper.io\\nUbelu 5-71,\\nAdazi, Latvia, LV-2164\\nCopyright © 2024\\nWeb Scraper\\n| All rights reserved\\nx\\nWe use cookies to make your Web Scraper experience better. Read our\\nPrivacy Policy\\n.\\nAccept & Continue'"
      ]
     },
     "execution_count": 39,
     "metadata": {},
     "output_type": "execute_result"
    }
   ],
   "source": [
    "parse(scrape(\"https://scrapeme.live/shop/\"))"
   ]
  },
  {
   "cell_type": "code",
   "execution_count": 40,
   "metadata": {},
   "outputs": [],
   "source": [
    "# Splitting text into batch for llm, idk what the max length should be\n",
    "def split(content, max_length=8000):\n",
    "    batch = [content[i :i +max_length] for i in range(0, len(content), max_length)] # keeps grabbing wtv the max lenght is until the end\n",
    "    return batch"
   ]
  },
  {
   "cell_type": "code",
   "execution_count": null,
   "metadata": {},
   "outputs": [
    {
     "data": {
      "text/plain": [
       "['Allinone | Web Scraper Test Sites\\nToggle navigation\\nWeb Scraper\\nCloud Scraper\\nPricing\\nLearn\\nDocumentation\\nVideo Tutorials\\nHow to\\nTest Sites\\nForum\\nInstall\\nCloud Login\\nTest Sites\\nHome\\nComputers\\nPhones\\nE-commerce training site\\nWelcome to WebScraper e-commerce site. You can use this site for training\\nto learn how to use the Web Scraper. Items listed here are not for sale.\\nTop items being scraped right now\\n$1294.74\\nToshiba Porteg...\\nToshiba Portege Z30-C-16K Grey, 13.3\" FHD, Core i5-6200U, 8GB, 256GB SSD, 4G, Windows 10 Pro\\n6 reviews\\n$899\\nAsus ROG STRIX...\\nAsus ROG STRIX GL553VD-DM256, 15.6\" FHD, Core i5-7300HQ, 8GB, 1TB, GeForce GTX 1050 2GB, No OS + Windows 10 Home\\n7 reviews\\n$520.99\\nHP 250 G3\\n15.6\", Core\\xa0i5-4210U, 4GB, 500GB, Windows 8.1\\n13 reviews\\nProducts\\nWeb Scraper browser extension\\nWeb Scraper Cloud\\nCompany\\nAbout us\\nContact\\nWebsite Privacy Policy\\nBrowser Extension Privacy Policy\\nMedia kit\\nJobs\\nResources\\nBlog\\nDocumentation\\nVideo Tutorials\\nScreenshots\\nTest Sites\\nForum\\nStatus\\nCONTACT US\\ninfo@webscraper.io\\nUbelu 5-71,\\nAdazi, Latvia, LV-2164\\nCopyright © 2024\\nWeb Scraper\\n| All rights reserved\\nx\\nWe use cookies to make your Web Scraper experience better. Read our\\nPrivacy Policy\\n.\\nAccept & Continue']"
      ]
     },
     "execution_count": 41,
     "metadata": {},
     "output_type": "execute_result"
    }
   ],
   "source": [
    "split(parse(scrape(\"https://scrapeme.live/shop/\")))"
   ]
  },
  {
   "cell_type": "code",
   "execution_count": 59,
   "metadata": {},
   "outputs": [],
   "source": [
    "#llm part\n",
    "from langchain_ollama import OllamaLLM\n",
    "from langchain_core.prompts import ChatPromptTemplate\n",
    "\n",
    "model = OllamaLLM(model=\"llama3.1\")\n",
    "\n",
    "template = (\n",
    "    \"You are tasked with extracting specific information from the following text content: {content}. \"\n",
    "    \"Please follow these instructions carefully: \\n\\n\"\n",
    "    \"1. **Extract Information:** Only extract the information that directly matches the provided description: {user_prompt}. \"\n",
    "    \"2. **No Extra Content:** Do not include any additional text, comments, or explanations in your response. \"\n",
    "    \"3. **Empty Response:** If no information matches the description, return an empty string ('').\"\n",
    "    \"4. **Direct Data Only:** Your output should contain only the data that is explicitly requested, with no other text.\"\n",
    ")\n",
    "\n",
    "def llm_parse(chunks, user_prompt):\n",
    "    prompt = ChatPromptTemplate.from_template(template)\n",
    "    chain = prompt | model\n",
    "\n",
    "    res = []\n",
    "\n",
    "    for i, chunk in enumerate(chunks, start=1):\n",
    "        response = chain.invoke({\"content\": chunk, \"user_prompt\": user_prompt})\n",
    "        res.append(response)\n",
    "    \n",
    "    return \"\\n\".join(res)\n"
   ]
  },
  {
   "cell_type": "code",
   "execution_count": 60,
   "metadata": {},
   "outputs": [
    {
     "data": {
      "text/plain": [
       "'£156.00'"
      ]
     },
     "execution_count": 60,
     "metadata": {},
     "output_type": "execute_result"
    }
   ],
   "source": [
    "url = \"https://scrapeme.live/shop/\"\n",
    "html = scrape(url)\n",
    "content = parse(html)\n",
    "chunks = split(content)\n",
    "prompt = \"Give me the price of Charizard\"\n",
    "llm_parse(chunks, prompt)"
   ]
  }
 ],
 "metadata": {
  "kernelspec": {
   "display_name": "venv",
   "language": "python",
   "name": "python3"
  },
  "language_info": {
   "codemirror_mode": {
    "name": "ipython",
    "version": 3
   },
   "file_extension": ".py",
   "mimetype": "text/x-python",
   "name": "python",
   "nbconvert_exporter": "python",
   "pygments_lexer": "ipython3",
   "version": "3.12.6"
  }
 },
 "nbformat": 4,
 "nbformat_minor": 2
}
